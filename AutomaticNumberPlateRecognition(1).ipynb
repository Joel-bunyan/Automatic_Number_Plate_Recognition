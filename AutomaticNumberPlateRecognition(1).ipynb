{
  "metadata": {
    "kernelspec": {
      "language": "python",
      "display_name": "Python 3",
      "name": "python3"
    },
    "language_info": {
      "name": "python",
      "version": "3.7.12",
      "mimetype": "text/x-python",
      "codemirror_mode": {
        "name": "ipython",
        "version": 3
      },
      "pygments_lexer": "ipython3",
      "nbconvert_exporter": "python",
      "file_extension": ".py"
    },
    "colab": {
      "provenance": []
    }
  },
  "nbformat_minor": 0,
  "nbformat": 4,
  "cells": [
    {
      "cell_type": "code",
      "source": [
        "import os\n",
        "import cv2\n",
        "import numpy as np\n",
        "import pandas as pd\n",
        "import tensorflow as tf\n",
        "import pytesseract as pt\n",
        "import plotly.express as px\n",
        "import matplotlib.pyplot as plt\n",
        "\n",
        "from glob import glob\n",
        "from skimage import io\n",
        "from shutil import copy\n",
        "from tensorflow.keras.models import Model\n",
        "from tensorflow.keras.callbacks import TensorBoard\n",
        "from sklearn.model_selection import train_test_split\n",
        "from tensorflow.keras.applications import InceptionResNetV2\n",
        "from tensorflow.keras.layers import Dense, Dropout, Flatten, Input\n",
        "from tensorflow.keras.preprocessing.image import load_img, img_to_array\n"
      ],
      "metadata": {
        "execution": {
          "iopub.status.busy": "2023-05-23T10:43:20.358749Z",
          "iopub.execute_input": "2023-05-23T10:43:20.359202Z",
          "iopub.status.idle": "2023-05-23T10:43:30.801536Z",
          "shell.execute_reply.started": "2023-05-23T10:43:20.359115Z",
          "shell.execute_reply": "2023-05-23T10:43:30.800533Z"
        },
        "trusted": true,
        "id": "HUUlp07XyqCm"
      },
      "execution_count": null,
      "outputs": []
    },
    {
      "cell_type": "code",
      "source": [
        "path = glob('../input/number-plate-detection/images/*.xml')\n",
        "labels_dict = dict(filepath=[],xmin=[],xmax=[],ymin=[],ymax=[])\n",
        "for filename in path:\n",
        "\n",
        "    info = xet.parse(filename)\n",
        "    root = info.getroot()\n",
        "    member_object = root.find('object')\n",
        "    labels_info = member_object.find('bndbox')\n",
        "    xmin = int(labels_info.find('xmin').text)\n",
        "    xmax = int(labels_info.find('xmax').text)\n",
        "    ymin = int(labels_info.find('ymin').text)\n",
        "    ymax = int(labels_info.find('ymax').text)\n",
        "\n",
        "    labels_dict['filepath'].append(filename)\n",
        "    labels_dict['xmin'].append(xmin)\n",
        "    labels_dict['xmax'].append(xmax)\n",
        "    labels_dict['ymin'].append(ymin)\n",
        "    labels_dict['ymax'].append(ymax)"
      ],
      "metadata": {
        "execution": {
          "iopub.status.busy": "2023-05-23T10:43:30.805665Z",
          "iopub.execute_input": "2023-05-23T10:43:30.806344Z",
          "iopub.status.idle": "2023-05-23T10:43:32.139444Z",
          "shell.execute_reply.started": "2023-05-23T10:43:30.806314Z",
          "shell.execute_reply": "2023-05-23T10:43:32.138574Z"
        },
        "trusted": true,
        "id": "N5uyRwm_yqCt"
      },
      "execution_count": null,
      "outputs": []
    },
    {
      "cell_type": "code",
      "source": [
        "df = pd.DataFrame(labels_dict)\n",
        "df.to_csv('labels.csv',index=False)\n",
        "df.head()"
      ],
      "metadata": {
        "execution": {
          "iopub.status.busy": "2023-05-23T10:43:32.140962Z",
          "iopub.execute_input": "2023-05-23T10:43:32.141338Z",
          "iopub.status.idle": "2023-05-23T10:43:32.169620Z",
          "shell.execute_reply.started": "2023-05-23T10:43:32.141302Z",
          "shell.execute_reply": "2023-05-23T10:43:32.168874Z"
        },
        "trusted": true,
        "id": "i6GMUg61yqCw"
      },
      "execution_count": null,
      "outputs": []
    },
    {
      "cell_type": "code",
      "source": [
        "filename = df['filepath'][0]\n",
        "def getFilename(filename):\n",
        "    filename_image = xet.parse(filename).getroot().find('filename').text\n",
        "    filepath_image = os.path.join('../input/number-plate-detection/images',filename_image)\n",
        "    return filepath_image\n",
        "getFilename(filename)"
      ],
      "metadata": {
        "execution": {
          "iopub.status.busy": "2023-05-23T10:43:32.171634Z",
          "iopub.execute_input": "2023-05-23T10:43:32.172089Z",
          "iopub.status.idle": "2023-05-23T10:43:32.183152Z",
          "shell.execute_reply.started": "2023-05-23T10:43:32.172052Z",
          "shell.execute_reply": "2023-05-23T10:43:32.182122Z"
        },
        "trusted": true,
        "id": "Jl8w1_H-yqC0"
      },
      "execution_count": null,
      "outputs": []
    },
    {
      "cell_type": "code",
      "source": [
        "image_path = list(df['filepath'].apply(getFilename))\n",
        "image_path[:10]#random check"
      ],
      "metadata": {
        "execution": {
          "iopub.status.busy": "2023-05-23T10:43:32.184833Z",
          "iopub.execute_input": "2023-05-23T10:43:32.185262Z",
          "iopub.status.idle": "2023-05-23T10:43:32.329453Z",
          "shell.execute_reply.started": "2023-05-23T10:43:32.185224Z",
          "shell.execute_reply": "2023-05-23T10:43:32.328667Z"
        },
        "trusted": true,
        "id": "58dhbc77yqC3"
      },
      "execution_count": null,
      "outputs": []
    },
    {
      "cell_type": "code",
      "source": [
        "file_path = image_path[87] #path of our image N2.jpeg\n",
        "img = cv2.imread(file_path) #read the image\n",
        "# xmin-1804/ymin-1734/xmax-2493/ymax-1882 \n",
        "img = io.imread(file_path) #Read the image\n",
        "fig = px.imshow(img)\n",
        "fig.update_layout(width=600, height=500, margin=dict(l=10, r=10, b=10, t=10),xaxis_title='Figure 8 - N2.jpeg with bounding box')\n",
        "fig.add_shape(type='rect',x0=1804, x1=2493, y0=1734, y1=1882, xref='x', yref='y',line_color='cyan')"
      ],
      "metadata": {
        "execution": {
          "iopub.status.busy": "2023-05-23T10:43:32.333373Z",
          "iopub.execute_input": "2023-05-23T10:43:32.336405Z",
          "iopub.status.idle": "2023-05-23T10:43:35.181207Z",
          "shell.execute_reply.started": "2023-05-23T10:43:32.336367Z",
          "shell.execute_reply": "2023-05-23T10:43:35.180123Z"
        },
        "trusted": true,
        "id": "0javF51oyqC6"
      },
      "execution_count": null,
      "outputs": []
    },
    {
      "cell_type": "code",
      "source": [
        "#Targeting all our values in array selecting all columns\n",
        "labels = df.iloc[:,1:].values\n",
        "data = []\n",
        "output = []\n",
        "for ind in range(len(image_path)):\n",
        "    image = image_path[ind]\n",
        "    img_arr = cv2.imread(image)\n",
        "    h,w,d = img_arr.shape\n",
        "    # Prepprocesing\n",
        "    load_image = load_img(image,target_size=(224,224))\n",
        "    load_image_arr = img_to_array(load_image)\n",
        "    norm_load_image_arr = load_image_arr/255.0 # Normalization\n",
        "    # Normalization to labels\n",
        "    xmin,xmax,ymin,ymax = labels[ind]\n",
        "    nxmin,nxmax = xmin/w,xmax/w\n",
        "    nymin,nymax = ymin/h,ymax/h\n",
        "    label_norm = (nxmin,nxmax,nymin,nymax) # Normalized output\n",
        "    # Append\n",
        "    data.append(norm_load_image_arr)\n",
        "    output.append(label_norm)"
      ],
      "metadata": {
        "execution": {
          "iopub.status.busy": "2023-05-23T10:43:35.182556Z",
          "iopub.execute_input": "2023-05-23T10:43:35.184212Z",
          "iopub.status.idle": "2023-05-23T10:43:41.452587Z",
          "shell.execute_reply.started": "2023-05-23T10:43:35.184163Z",
          "shell.execute_reply": "2023-05-23T10:43:41.451718Z"
        },
        "trusted": true,
        "id": "Ll1aLgtryqDJ"
      },
      "execution_count": null,
      "outputs": []
    },
    {
      "cell_type": "code",
      "source": [
        "# Convert data to array\n",
        "X = np.array(data,dtype=np.float32)\n",
        "y = np.array(output,dtype=np.float32)"
      ],
      "metadata": {
        "execution": {
          "iopub.status.busy": "2023-05-23T10:43:41.454110Z",
          "iopub.execute_input": "2023-05-23T10:43:41.454476Z",
          "iopub.status.idle": "2023-05-23T10:43:41.502848Z",
          "shell.execute_reply.started": "2023-05-23T10:43:41.454438Z",
          "shell.execute_reply": "2023-05-23T10:43:41.501942Z"
        },
        "trusted": true,
        "id": "hLlOK4w_yqDM"
      },
      "execution_count": null,
      "outputs": []
    },
    {
      "cell_type": "code",
      "source": [
        "# Split the data into training and testing set using sklearn.\n",
        "x_train,x_test,y_train,y_test = train_test_split(X,y,train_size=0.8,random_state=0)\n",
        "x_train.shape,x_test.shape,y_train.shape,y_test.shape"
      ],
      "metadata": {
        "execution": {
          "iopub.status.busy": "2023-05-23T10:43:41.504328Z",
          "iopub.execute_input": "2023-05-23T10:43:41.504734Z",
          "iopub.status.idle": "2023-05-23T10:43:41.552486Z",
          "shell.execute_reply.started": "2023-05-23T10:43:41.504695Z",
          "shell.execute_reply": "2023-05-23T10:43:41.551436Z"
        },
        "trusted": true,
        "id": "uSBLlgzEyqDN"
      },
      "execution_count": null,
      "outputs": []
    },
    {
      "cell_type": "code",
      "source": [
        "inception_resnet = InceptionResNetV2(weights=\"imagenet\",include_top=False, input_tensor=Input(shape=(224,224,3)))\n",
        "# ---------------------\n",
        "headmodel = inception_resnet.output\n",
        "headmodel = Flatten()(headmodel)\n",
        "headmodel = Dense(500,activation=\"relu\")(headmodel)\n",
        "headmodel = Dense(250,activation=\"relu\")(headmodel)\n",
        "headmodel = Dense(4,activation='sigmoid')(headmodel)\n",
        "\n",
        "\n",
        "# ---------- model\n",
        "model = Model(inputs=inception_resnet.input,outputs=headmodel)"
      ],
      "metadata": {
        "execution": {
          "iopub.status.busy": "2023-05-23T10:43:41.556439Z",
          "iopub.execute_input": "2023-05-23T10:43:41.556881Z",
          "iopub.status.idle": "2023-05-23T10:43:50.568910Z",
          "shell.execute_reply.started": "2023-05-23T10:43:41.556849Z",
          "shell.execute_reply": "2023-05-23T10:43:50.568003Z"
        },
        "trusted": true,
        "id": "zBbsD2gJyqDT"
      },
      "execution_count": null,
      "outputs": []
    },
    {
      "cell_type": "code",
      "source": [
        "# Complie model\n",
        "model.compile(loss='mse',optimizer=tf.keras.optimizers.Adam(learning_rate=1e-4))\n",
        "model.summary()"
      ],
      "metadata": {
        "execution": {
          "iopub.status.busy": "2023-05-23T10:43:50.570182Z",
          "iopub.execute_input": "2023-05-23T10:43:50.570569Z",
          "iopub.status.idle": "2023-05-23T10:43:50.700530Z",
          "shell.execute_reply.started": "2023-05-23T10:43:50.570532Z",
          "shell.execute_reply": "2023-05-23T10:43:50.699054Z"
        },
        "trusted": true,
        "id": "olirhmD2yqDX"
      },
      "execution_count": null,
      "outputs": []
    },
    {
      "cell_type": "code",
      "source": [
        "tfb = TensorBoard('object_detection')\n",
        "history = model.fit(x=x_train,y=y_train,batch_size=10,epochs=180,\n",
        "                    validation_data=(x_test,y_test),callbacks=[tfb])"
      ],
      "metadata": {
        "execution": {
          "iopub.status.busy": "2023-05-23T10:43:50.702037Z",
          "iopub.execute_input": "2023-05-23T10:43:50.702825Z",
          "iopub.status.idle": "2023-05-23T10:54:30.334043Z",
          "shell.execute_reply.started": "2023-05-23T10:43:50.702784Z",
          "shell.execute_reply": "2023-05-23T10:54:30.333132Z"
        },
        "trusted": true,
        "id": "Lx80dGnPyqDZ"
      },
      "execution_count": null,
      "outputs": []
    },
    {
      "cell_type": "code",
      "source": [
        "model.save('./object_detection.h5')"
      ],
      "metadata": {
        "execution": {
          "iopub.status.busy": "2023-05-23T10:54:30.336353Z",
          "iopub.execute_input": "2023-05-23T10:54:30.336774Z",
          "iopub.status.idle": "2023-05-23T10:54:33.338579Z",
          "shell.execute_reply.started": "2023-05-23T10:54:30.336736Z",
          "shell.execute_reply": "2023-05-23T10:54:33.337682Z"
        },
        "trusted": true,
        "id": "KMViT_DRyqDb"
      },
      "execution_count": null,
      "outputs": []
    },
    {
      "cell_type": "code",
      "source": [
        "# Load model\n",
        "model = tf.keras.models.load_model('./object_detection.h5')\n",
        "print('Model loaded Sucessfully')"
      ],
      "metadata": {
        "execution": {
          "iopub.status.busy": "2023-05-23T10:54:33.341156Z",
          "iopub.execute_input": "2023-05-23T10:54:33.341564Z",
          "iopub.status.idle": "2023-05-23T10:54:41.970931Z",
          "shell.execute_reply.started": "2023-05-23T10:54:33.341526Z",
          "shell.execute_reply": "2023-05-23T10:54:41.969844Z"
        },
        "trusted": true,
        "id": "rYqyHFZHyqDd"
      },
      "execution_count": null,
      "outputs": []
    },
    {
      "cell_type": "code",
      "source": [
        "path = '../input/number-plate-detection/TEST/TEST.jpeg'\n",
        "image = load_img(path) # PIL object\n",
        "image = np.array(image,dtype=np.uint8) # 8 bit array (0,255)\n",
        "image1 = load_img(path,target_size=(224,224))\n",
        "image_arr_224 = img_to_array(image1)/255.0  # Convert into array and get the normalized output\n",
        "\n",
        "# Size of the orginal image\n",
        "h,w,d = image.shape\n",
        "print('Height of the image =',h)\n",
        "print('Width of the image =',w)\n"
      ],
      "metadata": {
        "execution": {
          "iopub.status.busy": "2023-05-23T10:54:41.977919Z",
          "iopub.execute_input": "2023-05-23T10:54:41.980794Z",
          "iopub.status.idle": "2023-05-23T10:54:42.070117Z",
          "shell.execute_reply.started": "2023-05-23T10:54:41.980742Z",
          "shell.execute_reply": "2023-05-23T10:54:42.068346Z"
        },
        "trusted": true,
        "id": "Jo739S4CyqDi"
      },
      "execution_count": null,
      "outputs": []
    },
    {
      "cell_type": "code",
      "source": [
        "fig = px.imshow(image)\n",
        "fig.update_layout(width=700, height=500,  margin=dict(l=10, r=10, b=10, t=10), xaxis_title='Figure 13 - TEST Image')"
      ],
      "metadata": {
        "execution": {
          "iopub.status.busy": "2023-05-23T10:54:42.075203Z",
          "iopub.execute_input": "2023-05-23T10:54:42.078373Z",
          "iopub.status.idle": "2023-05-23T10:54:42.284023Z",
          "shell.execute_reply.started": "2023-05-23T10:54:42.078316Z",
          "shell.execute_reply": "2023-05-23T10:54:42.283300Z"
        },
        "trusted": true,
        "id": "OYevlFaKyqDm"
      },
      "execution_count": null,
      "outputs": []
    },
    {
      "cell_type": "code",
      "source": [
        "image_arr_224.shape"
      ],
      "metadata": {
        "execution": {
          "iopub.status.busy": "2023-05-23T10:54:42.285301Z",
          "iopub.execute_input": "2023-05-23T10:54:42.285821Z",
          "iopub.status.idle": "2023-05-23T10:54:42.292173Z",
          "shell.execute_reply.started": "2023-05-23T10:54:42.285785Z",
          "shell.execute_reply": "2023-05-23T10:54:42.291258Z"
        },
        "trusted": true,
        "id": "M6cp1Dq3yqDn"
      },
      "execution_count": null,
      "outputs": []
    },
    {
      "cell_type": "code",
      "source": [
        "test_arr = image_arr_224.reshape(1,224,224,3)\n",
        "test_arr.shape"
      ],
      "metadata": {
        "execution": {
          "iopub.status.busy": "2023-05-23T10:54:42.293615Z",
          "iopub.execute_input": "2023-05-23T10:54:42.294174Z",
          "iopub.status.idle": "2023-05-23T10:54:42.303380Z",
          "shell.execute_reply.started": "2023-05-23T10:54:42.294137Z",
          "shell.execute_reply": "2023-05-23T10:54:42.302626Z"
        },
        "trusted": true,
        "id": "xUsWHEOTyqDo"
      },
      "execution_count": null,
      "outputs": []
    },
    {
      "cell_type": "code",
      "source": [
        "# Make predictions\n",
        "coords = model.predict(test_arr)\n",
        "coords"
      ],
      "metadata": {
        "execution": {
          "iopub.status.busy": "2023-05-23T10:54:42.304742Z",
          "iopub.execute_input": "2023-05-23T10:54:42.305248Z",
          "iopub.status.idle": "2023-05-23T10:54:46.093810Z",
          "shell.execute_reply.started": "2023-05-23T10:54:42.305213Z",
          "shell.execute_reply": "2023-05-23T10:54:46.092869Z"
        },
        "trusted": true,
        "id": "Jgg80trIyqDq"
      },
      "execution_count": null,
      "outputs": []
    },
    {
      "cell_type": "code",
      "source": [
        "# Denormalize the values\n",
        "denorm = np.array([w,w,h,h])\n",
        "coords = coords * denorm\n",
        "coords"
      ],
      "metadata": {
        "execution": {
          "iopub.status.busy": "2023-05-23T10:54:46.097858Z",
          "iopub.execute_input": "2023-05-23T10:54:46.098368Z",
          "iopub.status.idle": "2023-05-23T10:54:46.113350Z",
          "shell.execute_reply.started": "2023-05-23T10:54:46.098326Z",
          "shell.execute_reply": "2023-05-23T10:54:46.112230Z"
        },
        "trusted": true,
        "id": "OExnqeT9yqDs"
      },
      "execution_count": null,
      "outputs": []
    },
    {
      "cell_type": "code",
      "source": [
        "coords = coords.astype(np.int32)\n",
        "coords"
      ],
      "metadata": {
        "execution": {
          "iopub.status.busy": "2023-05-23T10:54:46.117542Z",
          "iopub.execute_input": "2023-05-23T10:54:46.118203Z",
          "iopub.status.idle": "2023-05-23T10:54:46.129463Z",
          "shell.execute_reply.started": "2023-05-23T10:54:46.118162Z",
          "shell.execute_reply": "2023-05-23T10:54:46.128436Z"
        },
        "trusted": true,
        "id": "GPemYZS8yqDu"
      },
      "execution_count": null,
      "outputs": []
    },
    {
      "cell_type": "code",
      "source": [
        "# Draw bounding on top the image\n",
        "xmin, xmax,ymin,ymax = coords[0]\n",
        "pt1 =(xmin,ymin)\n",
        "pt2 =(xmax,ymax)\n",
        "print(pt1, pt2)"
      ],
      "metadata": {
        "execution": {
          "iopub.status.busy": "2023-05-23T10:54:46.131669Z",
          "iopub.execute_input": "2023-05-23T10:54:46.132691Z",
          "iopub.status.idle": "2023-05-23T10:54:46.142962Z",
          "shell.execute_reply.started": "2023-05-23T10:54:46.132652Z",
          "shell.execute_reply": "2023-05-23T10:54:46.142050Z"
        },
        "trusted": true,
        "id": "DeLA5xT9yqDw"
      },
      "execution_count": null,
      "outputs": []
    },
    {
      "cell_type": "code",
      "source": [
        "cv2.rectangle(image,pt1,pt2,(0,255,0),3)\n",
        "fig = px.imshow(image)\n",
        "fig.update_layout(width=700, height=500, margin=dict(l=10, r=10, b=10, t=10))"
      ],
      "metadata": {
        "execution": {
          "iopub.status.busy": "2023-05-23T10:54:46.145908Z",
          "iopub.execute_input": "2023-05-23T10:54:46.146739Z",
          "iopub.status.idle": "2023-05-23T10:54:46.421861Z",
          "shell.execute_reply.started": "2023-05-23T10:54:46.146697Z",
          "shell.execute_reply": "2023-05-23T10:54:46.421015Z"
        },
        "trusted": true,
        "id": "6ud6vCkhyqDx"
      },
      "execution_count": null,
      "outputs": []
    },
    {
      "cell_type": "code",
      "source": [
        "# Create pipeline\n",
        "path = '../input/number-plate-detection/TEST/TEST.jpeg'\n",
        "def object_detection(path):\n",
        "    \n",
        "    # Read image\n",
        "    image = load_img(path) # PIL object\n",
        "    image = np.array(image,dtype=np.uint8) # 8 bit array (0,255)\n",
        "    image1 = load_img(path,target_size=(224,224))\n",
        "    \n",
        "    # Data preprocessing\n",
        "    image_arr_224 = img_to_array(image1)/255.0 # Convert to array & normalized\n",
        "    h,w,d = image.shape\n",
        "    test_arr = image_arr_224.reshape(1,224,224,3)\n",
        "    \n",
        "    # Make predictions\n",
        "    coords = model.predict(test_arr)\n",
        "    \n",
        "    # Denormalize the values\n",
        "    denorm = np.array([w,w,h,h])\n",
        "    coords = coords * denorm\n",
        "    coords = coords.astype(np.int32)\n",
        "    \n",
        "    # Draw bounding on top the image\n",
        "    xmin, xmax,ymin,ymax = coords[0]\n",
        "    pt1 =(xmin,ymin)\n",
        "    pt2 =(xmax,ymax)\n",
        "    print(pt1, pt2)\n",
        "    cv2.rectangle(image,pt1,pt2,(0,255,0),3)\n",
        "    return image, coords\n",
        "\n",
        "image, cods = object_detection(path)\n",
        "\n",
        "fig = px.imshow(image)\n",
        "fig.update_layout(width=700, height=500, margin=dict(l=10, r=10, b=10, t=10),xaxis_title='Figure 14')"
      ],
      "metadata": {
        "execution": {
          "iopub.status.busy": "2023-05-23T10:54:46.422939Z",
          "iopub.execute_input": "2023-05-23T10:54:46.423292Z",
          "iopub.status.idle": "2023-05-23T10:54:46.873418Z",
          "shell.execute_reply.started": "2023-05-23T10:54:46.423259Z",
          "shell.execute_reply": "2023-05-23T10:54:46.872484Z"
        },
        "trusted": true,
        "id": "hxVw2LP4yqD0"
      },
      "execution_count": null,
      "outputs": []
    },
    {
      "cell_type": "code",
      "source": [
        "img = np.array(load_img(path))\n",
        "xmin ,xmax,ymin,ymax = cods[0]\n",
        "roi = img[ymin:ymax,xmin:xmax]\n",
        "fig = px.imshow(roi)\n",
        "fig.update_layout(width=350, height=250, margin=dict(l=10, r=10, b=10, t=10),xaxis_title='Figure 15 Cropped image')"
      ],
      "metadata": {
        "execution": {
          "iopub.status.busy": "2023-05-23T10:54:46.874729Z",
          "iopub.execute_input": "2023-05-23T10:54:46.875172Z",
          "iopub.status.idle": "2023-05-23T10:54:46.958576Z",
          "shell.execute_reply.started": "2023-05-23T10:54:46.875138Z",
          "shell.execute_reply": "2023-05-23T10:54:46.957753Z"
        },
        "trusted": true,
        "id": "UogLnHkZyqD0"
      },
      "execution_count": null,
      "outputs": []
    },
    {
      "cell_type": "code",
      "source": [
        "# extract text from image\n",
        "text = pt.image_to_string(roi)\n",
        "print(text)"
      ],
      "metadata": {
        "execution": {
          "iopub.status.busy": "2023-05-23T10:54:46.959797Z",
          "iopub.execute_input": "2023-05-23T10:54:46.960592Z",
          "iopub.status.idle": "2023-05-23T10:54:49.263829Z",
          "shell.execute_reply.started": "2023-05-23T10:54:46.960554Z",
          "shell.execute_reply": "2023-05-23T10:54:49.262723Z"
        },
        "trusted": true,
        "id": "Yotvq-pHyqD3"
      },
      "execution_count": null,
      "outputs": []
    }
  ]
}